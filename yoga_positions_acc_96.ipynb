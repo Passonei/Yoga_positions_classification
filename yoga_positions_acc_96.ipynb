{
  "cells": [
    {
      "cell_type": "markdown",
      "metadata": {
        "id": "view-in-github",
        "colab_type": "text"
      },
      "source": [
        "<a href=\"https://colab.research.google.com/github/Passonei/Yoga_positions_classification/blob/main/yoga_positions_acc_96.ipynb\" target=\"_parent\"><img src=\"https://colab.research.google.com/assets/colab-badge.svg\" alt=\"Open In Colab\"/></a>"
      ]
    },
    {
      "cell_type": "markdown",
      "id": "85f06529",
      "metadata": {
        "papermill": {
          "duration": 0.006723,
          "end_time": "2023-08-06T14:25:24.592901",
          "exception": false,
          "start_time": "2023-08-06T14:25:24.586178",
          "status": "completed"
        },
        "tags": [],
        "id": "85f06529"
      },
      "source": [
        "Identifying different yoga poses using pose estimation\n",
        "\n",
        "In this task, authors of other notebooks use CNNs and transfer learning to checkout individual yoga poses. I approached this task differently and used pose estimation to extract new features describing the position of body points. 33 points are extracted, each of which is described by 4 values (3 position coordinates and visibility). Random Forest is then used for classification.\n",
        "After applying SMOTE additively, the accuracy of the model is ~96%."
      ]
    },
    {
      "cell_type": "code",
      "execution_count": null,
      "id": "e92edeca",
      "metadata": {
        "execution": {
          "iopub.execute_input": "2023-08-06T14:25:24.608874Z",
          "iopub.status.busy": "2023-08-06T14:25:24.608394Z",
          "iopub.status.idle": "2023-08-06T14:25:42.299063Z",
          "shell.execute_reply": "2023-08-06T14:25:42.297696Z"
        },
        "papermill": {
          "duration": 17.701681,
          "end_time": "2023-08-06T14:25:42.302069",
          "exception": false,
          "start_time": "2023-08-06T14:25:24.600388",
          "status": "completed"
        },
        "tags": [],
        "id": "e92edeca",
        "outputId": "30bdfcb9-aa34-4fe5-a8d2-34f4c38dc3dc"
      },
      "outputs": [
        {
          "name": "stdout",
          "output_type": "stream",
          "text": [
            "Collecting mediapipe\r\n",
            "  Downloading mediapipe-0.10.3-cp310-cp310-manylinux_2_17_x86_64.manylinux2014_x86_64.whl (33.5 MB)\r\n",
            "\u001b[2K     \u001b[90m━━━━━━━━━━━━━━━━━━━━━━━━━━━━━━━━━━━━━━━━\u001b[0m \u001b[32m33.5/33.5 MB\u001b[0m \u001b[31m30.1 MB/s\u001b[0m eta \u001b[36m0:00:00\u001b[0m\r\n",
            "\u001b[?25hRequirement already satisfied: absl-py in /opt/conda/lib/python3.10/site-packages (from mediapipe) (1.4.0)\r\n",
            "Requirement already satisfied: attrs>=19.1.0 in /opt/conda/lib/python3.10/site-packages (from mediapipe) (23.1.0)\r\n",
            "Requirement already satisfied: flatbuffers>=2.0 in /opt/conda/lib/python3.10/site-packages (from mediapipe) (23.5.26)\r\n",
            "Requirement already satisfied: matplotlib in /opt/conda/lib/python3.10/site-packages (from mediapipe) (3.7.1)\r\n",
            "Requirement already satisfied: numpy in /opt/conda/lib/python3.10/site-packages (from mediapipe) (1.23.5)\r\n",
            "Requirement already satisfied: opencv-contrib-python in /opt/conda/lib/python3.10/site-packages (from mediapipe) (4.8.0.74)\r\n",
            "Requirement already satisfied: protobuf<4,>=3.11 in /opt/conda/lib/python3.10/site-packages (from mediapipe) (3.20.3)\r\n",
            "Collecting sounddevice>=0.4.4 (from mediapipe)\r\n",
            "  Downloading sounddevice-0.4.6-py3-none-any.whl (31 kB)\r\n",
            "Requirement already satisfied: CFFI>=1.0 in /opt/conda/lib/python3.10/site-packages (from sounddevice>=0.4.4->mediapipe) (1.15.1)\r\n",
            "Requirement already satisfied: contourpy>=1.0.1 in /opt/conda/lib/python3.10/site-packages (from matplotlib->mediapipe) (1.1.0)\r\n",
            "Requirement already satisfied: cycler>=0.10 in /opt/conda/lib/python3.10/site-packages (from matplotlib->mediapipe) (0.11.0)\r\n",
            "Requirement already satisfied: fonttools>=4.22.0 in /opt/conda/lib/python3.10/site-packages (from matplotlib->mediapipe) (4.40.0)\r\n",
            "Requirement already satisfied: kiwisolver>=1.0.1 in /opt/conda/lib/python3.10/site-packages (from matplotlib->mediapipe) (1.4.4)\r\n",
            "Requirement already satisfied: packaging>=20.0 in /opt/conda/lib/python3.10/site-packages (from matplotlib->mediapipe) (21.3)\r\n",
            "Requirement already satisfied: pillow>=6.2.0 in /opt/conda/lib/python3.10/site-packages (from matplotlib->mediapipe) (9.5.0)\r\n",
            "Requirement already satisfied: pyparsing>=2.3.1 in /opt/conda/lib/python3.10/site-packages (from matplotlib->mediapipe) (3.0.9)\r\n",
            "Requirement already satisfied: python-dateutil>=2.7 in /opt/conda/lib/python3.10/site-packages (from matplotlib->mediapipe) (2.8.2)\r\n",
            "Requirement already satisfied: pycparser in /opt/conda/lib/python3.10/site-packages (from CFFI>=1.0->sounddevice>=0.4.4->mediapipe) (2.21)\r\n",
            "Requirement already satisfied: six>=1.5 in /opt/conda/lib/python3.10/site-packages (from python-dateutil>=2.7->matplotlib->mediapipe) (1.16.0)\r\n",
            "Installing collected packages: sounddevice, mediapipe\r\n",
            "Successfully installed mediapipe-0.10.3 sounddevice-0.4.6\r\n"
          ]
        }
      ],
      "source": [
        "!pip install mediapipe"
      ]
    },
    {
      "cell_type": "code",
      "execution_count": null,
      "id": "abd14e8a",
      "metadata": {
        "execution": {
          "iopub.execute_input": "2023-08-06T14:25:42.320907Z",
          "iopub.status.busy": "2023-08-06T14:25:42.320454Z",
          "iopub.status.idle": "2023-08-06T14:25:54.014733Z",
          "shell.execute_reply": "2023-08-06T14:25:54.013522Z"
        },
        "papermill": {
          "duration": 11.70712,
          "end_time": "2023-08-06T14:25:54.017539",
          "exception": false,
          "start_time": "2023-08-06T14:25:42.310419",
          "status": "completed"
        },
        "tags": [],
        "id": "abd14e8a",
        "outputId": "d8e1a5d5-f6bb-43af-c68e-b381bd583b45"
      },
      "outputs": [
        {
          "name": "stderr",
          "output_type": "stream",
          "text": [
            "/opt/conda/lib/python3.10/site-packages/scipy/__init__.py:146: UserWarning: A NumPy version >=1.16.5 and <1.23.0 is required for this version of SciPy (detected version 1.23.5\n",
            "  warnings.warn(f\"A NumPy version >={np_minversion} and <{np_maxversion}\"\n",
            "/opt/conda/lib/python3.10/site-packages/tensorflow_io/python/ops/__init__.py:98: UserWarning: unable to load libtensorflow_io_plugins.so: unable to open file: libtensorflow_io_plugins.so, from paths: ['/opt/conda/lib/python3.10/site-packages/tensorflow_io/python/ops/libtensorflow_io_plugins.so']\n",
            "caused by: ['/opt/conda/lib/python3.10/site-packages/tensorflow_io/python/ops/libtensorflow_io_plugins.so: undefined symbol: _ZN3tsl6StatusC1EN10tensorflow5error4CodeESt17basic_string_viewIcSt11char_traitsIcEENS_14SourceLocationE']\n",
            "  warnings.warn(f\"unable to load libtensorflow_io_plugins.so: {e}\")\n",
            "/opt/conda/lib/python3.10/site-packages/tensorflow_io/python/ops/__init__.py:104: UserWarning: file system plugins are not loaded: unable to open file: libtensorflow_io.so, from paths: ['/opt/conda/lib/python3.10/site-packages/tensorflow_io/python/ops/libtensorflow_io.so']\n",
            "caused by: ['/opt/conda/lib/python3.10/site-packages/tensorflow_io/python/ops/libtensorflow_io.so: undefined symbol: _ZTVN10tensorflow13GcsFileSystemE']\n",
            "  warnings.warn(f\"file system plugins are not loaded: {e}\")\n"
          ]
        }
      ],
      "source": [
        "import numpy as np # linear algebra\n",
        "import pandas as pd # data processing)\n",
        "import os\n",
        "import IPython #display picture\n",
        "import cv2\n",
        "import mediapipe as mp\n",
        "import matplotlib.pyplot as plt\n",
        "from PIL import Image #load picture\n",
        "from sklearn.model_selection import train_test_split\n",
        "from sklearn.preprocessing import LabelEncoder\n",
        "from imblearn.over_sampling import SMOTE\n",
        "from sklearn.ensemble import RandomForestClassifier\n",
        "from sklearn.metrics import accuracy_score"
      ]
    },
    {
      "cell_type": "code",
      "execution_count": null,
      "id": "0546f312",
      "metadata": {
        "execution": {
          "iopub.execute_input": "2023-08-06T14:25:54.036808Z",
          "iopub.status.busy": "2023-08-06T14:25:54.036036Z",
          "iopub.status.idle": "2023-08-06T14:25:54.463956Z",
          "shell.execute_reply": "2023-08-06T14:25:54.462841Z"
        },
        "papermill": {
          "duration": 0.440349,
          "end_time": "2023-08-06T14:25:54.466424",
          "exception": false,
          "start_time": "2023-08-06T14:25:54.026075",
          "status": "completed"
        },
        "tags": [],
        "id": "0546f312"
      },
      "outputs": [],
      "source": [
        "seed = 333\n",
        "image_path = []\n",
        "label = []\n",
        "\n",
        "for dirname, _, filenames in os.walk('/kaggle/input'):\n",
        "    for filename in filenames:\n",
        "        if not filename.endswith('.json'):\n",
        "            image_path.append(os.path.join(dirname, filename))\n",
        "            label.append(os.path.split(dirname)[1])"
      ]
    },
    {
      "cell_type": "code",
      "execution_count": null,
      "id": "ac9c056b",
      "metadata": {
        "execution": {
          "iopub.execute_input": "2023-08-06T14:25:54.485507Z",
          "iopub.status.busy": "2023-08-06T14:25:54.484549Z",
          "iopub.status.idle": "2023-08-06T14:25:54.498363Z",
          "shell.execute_reply": "2023-08-06T14:25:54.497408Z"
        },
        "papermill": {
          "duration": 0.025927,
          "end_time": "2023-08-06T14:25:54.500745",
          "exception": false,
          "start_time": "2023-08-06T14:25:54.474818",
          "status": "completed"
        },
        "tags": [],
        "id": "ac9c056b"
      },
      "outputs": [],
      "source": [
        "image_path = pd.Series(image_path, name='path')\n",
        "label = pd.Series(label, name='label')\n",
        "df = pd.concat([image_path,label], axis=1)"
      ]
    },
    {
      "cell_type": "code",
      "execution_count": null,
      "id": "2cb34272",
      "metadata": {
        "execution": {
          "iopub.execute_input": "2023-08-06T14:25:54.519629Z",
          "iopub.status.busy": "2023-08-06T14:25:54.519213Z",
          "iopub.status.idle": "2023-08-06T14:26:38.194907Z",
          "shell.execute_reply": "2023-08-06T14:26:38.193673Z"
        },
        "papermill": {
          "duration": 43.688719,
          "end_time": "2023-08-06T14:26:38.197921",
          "exception": false,
          "start_time": "2023-08-06T14:25:54.509202",
          "status": "completed"
        },
        "tags": [],
        "id": "2cb34272"
      },
      "outputs": [],
      "source": [
        "labels=[]\n",
        "X=[]\n",
        "\n",
        "for i in range(len(df)):\n",
        "    img = Image.open(df['path'][i])\n",
        "    img = img.resize((128, 128))\n",
        "    img = np.array(img)\n",
        "    if len(img.shape)>2 and img.shape[2] == 4:\n",
        "        img = img[:, :, :3]\n",
        "    elif len(img.shape)<3:\n",
        "        img = cv2.cvtColor(img, cv2.COLOR_GRAY2BGR)\n",
        "    if img.shape[2] == 3:\n",
        "        X.append(img)\n",
        "        labels.append(df['label'][i])"
      ]
    },
    {
      "cell_type": "code",
      "execution_count": null,
      "id": "76197061",
      "metadata": {
        "execution": {
          "iopub.execute_input": "2023-08-06T14:26:38.217099Z",
          "iopub.status.busy": "2023-08-06T14:26:38.216570Z",
          "iopub.status.idle": "2023-08-06T14:26:38.225385Z",
          "shell.execute_reply": "2023-08-06T14:26:38.224402Z"
        },
        "papermill": {
          "duration": 0.021426,
          "end_time": "2023-08-06T14:26:38.228070",
          "exception": false,
          "start_time": "2023-08-06T14:26:38.206644",
          "status": "completed"
        },
        "tags": [],
        "id": "76197061"
      },
      "outputs": [],
      "source": [
        "label_encoder = LabelEncoder()\n",
        "label_encoded = label_encoder.fit_transform(labels)"
      ]
    },
    {
      "cell_type": "code",
      "execution_count": null,
      "id": "b5e2a2c9",
      "metadata": {
        "execution": {
          "iopub.execute_input": "2023-08-06T14:26:38.249267Z",
          "iopub.status.busy": "2023-08-06T14:26:38.248881Z",
          "iopub.status.idle": "2023-08-06T14:26:38.905046Z",
          "shell.execute_reply": "2023-08-06T14:26:38.904078Z"
        },
        "papermill": {
          "duration": 0.670544,
          "end_time": "2023-08-06T14:26:38.907857",
          "exception": false,
          "start_time": "2023-08-06T14:26:38.237313",
          "status": "completed"
        },
        "tags": [],
        "id": "b5e2a2c9",
        "outputId": "d0f628b0-4336-4eba-bcca-a14ccec50f93"
      },
      "outputs": [
        {
          "name": "stderr",
          "output_type": "stream",
          "text": [
            "INFO: Created TensorFlow Lite XNNPACK delegate for CPU.\n"
          ]
        },
        {
          "data": {
            "text/plain": [
              "<matplotlib.image.AxesImage at 0x797de9f0b460>"
            ]
          },
          "execution_count": 7,
          "metadata": {},
          "output_type": "execute_result"
        },
        {
          "data": {
            "image/png": "[encoded data removed]",
            "text/plain": [
              "<Figure size 640x480 with 1 Axes>"
            ]
          },
          "metadata": {},
          "output_type": "display_data"
        }
      ],
      "source": [
        "mp_pose = mp.solutions.pose\n",
        "mp_draw = mp.solutions.drawing_utils\n",
        "pose = mp_pose.Pose()\n",
        "\n",
        "img = X[333]\n",
        "results = pose.process(img)\n",
        "mp_draw.draw_landmarks(img, results.pose_landmarks,\n",
        "                        mp_pose.POSE_CONNECTIONS,\n",
        "                        mp_draw.DrawingSpec((255, 0, 0), 2, 2),\n",
        "                        mp_draw.DrawingSpec((255, 0, 255), 2, 2)\n",
        "                       )\n",
        "plt.imshow(img)"
      ]
    },
    {
      "cell_type": "code",
      "execution_count": null,
      "id": "f6075b30",
      "metadata": {
        "execution": {
          "iopub.execute_input": "2023-08-06T14:26:38.930715Z",
          "iopub.status.busy": "2023-08-06T14:26:38.929527Z",
          "iopub.status.idle": "2023-08-06T14:26:38.937887Z",
          "shell.execute_reply": "2023-08-06T14:26:38.936851Z"
        },
        "papermill": {
          "duration": 0.022563,
          "end_time": "2023-08-06T14:26:38.940712",
          "exception": false,
          "start_time": "2023-08-06T14:26:38.918149",
          "status": "completed"
        },
        "tags": [],
        "id": "f6075b30",
        "outputId": "281521d4-78ac-4894-9207-81f6cade9966"
      },
      "outputs": [
        {
          "data": {
            "text/plain": [
              "((2756, 33, 4), (2756,))"
            ]
          },
          "execution_count": 8,
          "metadata": {},
          "output_type": "execute_result"
        }
      ],
      "source": [
        "x_position = np.zeros((len(X),33,4))\n",
        "y_position = np.zeros(label_encoded.shape)\n",
        "x_position.shape, y_position.shape"
      ]
    },
    {
      "cell_type": "markdown",
      "id": "b3ca40ae",
      "metadata": {
        "papermill": {
          "duration": 0.012233,
          "end_time": "2023-08-06T14:26:38.963537",
          "exception": false,
          "start_time": "2023-08-06T14:26:38.951304",
          "status": "completed"
        },
        "tags": [],
        "id": "b3ca40ae"
      },
      "source": [
        "Extraction of new features from the images as coordinates of selected body points"
      ]
    },
    {
      "cell_type": "code",
      "execution_count": null,
      "id": "809d2ba9",
      "metadata": {
        "execution": {
          "iopub.execute_input": "2023-08-06T14:26:38.985638Z",
          "iopub.status.busy": "2023-08-06T14:26:38.985226Z",
          "iopub.status.idle": "2023-08-06T14:28:44.786757Z",
          "shell.execute_reply": "2023-08-06T14:28:44.785700Z"
        },
        "papermill": {
          "duration": 125.816129,
          "end_time": "2023-08-06T14:28:44.789939",
          "exception": false,
          "start_time": "2023-08-06T14:26:38.973810",
          "status": "completed"
        },
        "tags": [],
        "id": "809d2ba9"
      },
      "outputs": [],
      "source": [
        "for i in range(len(X)):\n",
        "    results = pose.process(X[i])\n",
        "    if results.pose_landmarks is not None:\n",
        "        positions = results.pose_landmarks.landmark\n",
        "        j=0\n",
        "        for landmark in positions:\n",
        "            x = landmark.x\n",
        "            y = landmark.y\n",
        "            z = landmark.z\n",
        "            v = landmark.visibility\n",
        "            x_position[i,j] = [x,y,z,v]\n",
        "            y_position[i] = label_encoded[i]+1\n",
        "            j+=1"
      ]
    },
    {
      "cell_type": "markdown",
      "id": "87154287",
      "metadata": {
        "papermill": {
          "duration": 0.010636,
          "end_time": "2023-08-06T14:28:44.811568",
          "exception": false,
          "start_time": "2023-08-06T14:28:44.800932",
          "status": "completed"
        },
        "tags": [],
        "id": "87154287"
      },
      "source": [
        "Dropping of images for which no points could be estimated"
      ]
    },
    {
      "cell_type": "code",
      "execution_count": null,
      "id": "5cba54fd",
      "metadata": {
        "execution": {
          "iopub.execute_input": "2023-08-06T14:28:44.834652Z",
          "iopub.status.busy": "2023-08-06T14:28:44.833795Z",
          "iopub.status.idle": "2023-08-06T14:28:44.844205Z",
          "shell.execute_reply": "2023-08-06T14:28:44.843104Z"
        },
        "papermill": {
          "duration": 0.024531,
          "end_time": "2023-08-06T14:28:44.846458",
          "exception": false,
          "start_time": "2023-08-06T14:28:44.821927",
          "status": "completed"
        },
        "tags": [],
        "id": "5cba54fd",
        "outputId": "5029f6af-4463-4a71-ccfb-61dd853411dc"
      },
      "outputs": [
        {
          "data": {
            "text/plain": [
              "((2528,), (2528, 33, 4))"
            ]
          },
          "execution_count": 10,
          "metadata": {},
          "output_type": "execute_result"
        }
      ],
      "source": [
        "non_zero_mask = np.any(x_position != 0, axis=(1,2))\n",
        "x_position = x_position[non_zero_mask]\n",
        "y_position = y_position[y_position != 0]\n",
        "\n",
        "y_position.shape, x_position.shape"
      ]
    },
    {
      "cell_type": "code",
      "execution_count": null,
      "id": "d2a7f773",
      "metadata": {
        "execution": {
          "iopub.execute_input": "2023-08-06T14:28:44.870335Z",
          "iopub.status.busy": "2023-08-06T14:28:44.869502Z",
          "iopub.status.idle": "2023-08-06T14:28:44.874973Z",
          "shell.execute_reply": "2023-08-06T14:28:44.873999Z"
        },
        "papermill": {
          "duration": 0.020046,
          "end_time": "2023-08-06T14:28:44.877452",
          "exception": false,
          "start_time": "2023-08-06T14:28:44.857406",
          "status": "completed"
        },
        "tags": [],
        "id": "d2a7f773"
      },
      "outputs": [],
      "source": [
        "x_position = x_position.reshape(x_position.shape[0],x_position.shape[1]*x_position.shape[2])"
      ]
    },
    {
      "cell_type": "code",
      "execution_count": null,
      "id": "d288381b",
      "metadata": {
        "execution": {
          "iopub.execute_input": "2023-08-06T14:28:44.901166Z",
          "iopub.status.busy": "2023-08-06T14:28:44.900752Z",
          "iopub.status.idle": "2023-08-06T14:28:44.908222Z",
          "shell.execute_reply": "2023-08-06T14:28:44.907114Z"
        },
        "papermill": {
          "duration": 0.022184,
          "end_time": "2023-08-06T14:28:44.910470",
          "exception": false,
          "start_time": "2023-08-06T14:28:44.888286",
          "status": "completed"
        },
        "tags": [],
        "id": "d288381b"
      },
      "outputs": [],
      "source": [
        "X_train, X_test, y_train, y_test = train_test_split(x_position, y_position,\n",
        "                                                    test_size=0.2, shuffle=True,\n",
        "                                                    random_state=seed)"
      ]
    },
    {
      "cell_type": "markdown",
      "id": "00c3f106",
      "metadata": {
        "papermill": {
          "duration": 0.010179,
          "end_time": "2023-08-06T14:28:44.931309",
          "exception": false,
          "start_time": "2023-08-06T14:28:44.921130",
          "status": "completed"
        },
        "tags": [],
        "id": "00c3f106"
      },
      "source": [
        "Class balancing using SMOTE (Synthetic Minority Over-sampling Technique)"
      ]
    },
    {
      "cell_type": "code",
      "execution_count": null,
      "id": "1fc043c2",
      "metadata": {
        "execution": {
          "iopub.execute_input": "2023-08-06T14:28:44.953906Z",
          "iopub.status.busy": "2023-08-06T14:28:44.953455Z",
          "iopub.status.idle": "2023-08-06T14:28:45.121974Z",
          "shell.execute_reply": "2023-08-06T14:28:45.121027Z"
        },
        "papermill": {
          "duration": 0.182931,
          "end_time": "2023-08-06T14:28:45.124746",
          "exception": false,
          "start_time": "2023-08-06T14:28:44.941815",
          "status": "completed"
        },
        "tags": [],
        "id": "1fc043c2"
      },
      "outputs": [],
      "source": [
        "smote = SMOTE(random_state=seed, k_neighbors=3)\n",
        "X_resampled, y_resampled = smote.fit_resample(X_train, y_train)"
      ]
    },
    {
      "cell_type": "code",
      "execution_count": null,
      "id": "7201c2af",
      "metadata": {
        "execution": {
          "iopub.execute_input": "2023-08-06T14:28:45.149300Z",
          "iopub.status.busy": "2023-08-06T14:28:45.148059Z",
          "iopub.status.idle": "2023-08-06T14:28:56.593525Z",
          "shell.execute_reply": "2023-08-06T14:28:56.592539Z"
        },
        "papermill": {
          "duration": 11.45942,
          "end_time": "2023-08-06T14:28:56.595802",
          "exception": false,
          "start_time": "2023-08-06T14:28:45.136382",
          "status": "completed"
        },
        "tags": [],
        "id": "7201c2af",
        "outputId": "65cb6a45-c2eb-472c-e266-24759a75e3e7"
      },
      "outputs": [
        {
          "data": {
            "text/plain": [
              "0.9644268774703557"
            ]
          },
          "execution_count": 14,
          "metadata": {},
          "output_type": "execute_result"
        }
      ],
      "source": [
        "forest = RandomForestClassifier(n_estimators=200,random_state=seed)\n",
        "\n",
        "forest.fit(X_resampled, y_resampled)\n",
        "\n",
        "y_pred = forest.predict(X_test)\n",
        "accuracy_score(y_test, y_pred)"
      ]
    }
  ],
  "metadata": {
    "kernelspec": {
      "display_name": "Python 3",
      "language": "python",
      "name": "python3"
    },
    "language_info": {
      "codemirror_mode": {
        "name": "ipython",
        "version": 3
      },
      "file_extension": ".py",
      "mimetype": "text/x-python",
      "name": "python",
      "nbconvert_exporter": "python",
      "pygments_lexer": "ipython3",
      "version": "3.10.12"
    },
    "papermill": {
      "default_parameters": {},
      "duration": 226.880053,
      "end_time": "2023-08-06T14:28:59.308799",
      "environment_variables": {},
      "exception": null,
      "input_path": "__notebook__.ipynb",
      "output_path": "__notebook__.ipynb",
      "parameters": {},
      "start_time": "2023-08-06T14:25:12.428746",
      "version": "2.4.0"
    },
    "colab": {
      "provenance": [],
      "include_colab_link": true
    }
  },
  "nbformat": 4,
  "nbformat_minor": 5
}